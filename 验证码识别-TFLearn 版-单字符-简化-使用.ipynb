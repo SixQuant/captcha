{
 "cells": [
  {
   "cell_type": "markdown",
   "metadata": {},
   "source": [
    "# 验证码识别-TFLearn 版-单字符-简化"
   ]
  },
  {
   "cell_type": "markdown",
   "metadata": {},
   "source": [
    "同是从带多个字符的图片中学习特征，同时对应多个输出分类(4个字符)"
   ]
  },
  {
   "cell_type": "markdown",
   "metadata": {},
   "source": [
    "# 准备数据"
   ]
  },
  {
   "cell_type": "code",
   "execution_count": 1,
   "metadata": {},
   "outputs": [],
   "source": [
    "%matplotlib inline\n",
    "import os\n",
    "import cv2\n",
    "import numpy as np\n",
    "from matplotlib import pyplot as plt\n",
    "import matplotlib.image as mpimg\n",
    "\n",
    "image_dir = \"/Volumes/Cloud/DataSet/src/captcha\"\n",
    "model_dir = \"/Volumes/Cloud/Models/captcha/resnet\"\n",
    "\n",
    "LABEL_LENGTH = 4        # 验证码字符数\n",
    "#LABELS = \"0123456789ABCDEFGHIJKLMNOPQRSTUVWXYZ\"\n",
    "LABELS = \"0123456789\"   # 验证码字符组成\n",
    "\n",
    "IMAGE_H = 28            # 缩放后单个字符图片大小\n",
    "IMAGE_W = 28            # 缩放后单个字符图片大小\n",
    "IMAGE_C = 3             # 图片通道数：1/3/4"
   ]
  },
  {
   "cell_type": "markdown",
   "metadata": {},
   "source": [
    "# 加载模型"
   ]
  },
  {
   "cell_type": "code",
   "execution_count": 3,
   "metadata": {
    "scrolled": false
   },
   "outputs": [
    {
     "name": "stdout",
     "output_type": "stream",
     "text": [
      "INFO:tensorflow:Restoring parameters from /Volumes/Cloud/Models/captcha/resnet/model.tfl\n"
     ]
    }
   ],
   "source": [
    "# 构造网络模型\n",
    "from __future__ import absolute_import, division, print_function\n",
    "import tflearn\n",
    "import tensorflow as tf\n",
    "import time\n",
    "\n",
    "tf.reset_default_graph()\n",
    "tflearn.config.init_training_mode()\n",
    "\n",
    "def build_model(learning_rate):\n",
    "    img_prep = tflearn.ImagePreprocessing()\n",
    "    # img_prep.add_featurewise_zero_center(per_channel=True)  # 输入图像要减图像均值\n",
    "\n",
    "    img_aug = tflearn.ImageAugmentation()\n",
    "    img_aug.add_random_rotation(max_angle=10.0)  # 随机旋转角度\n",
    "    # img_aug.add_random_blur(sigma_max=5.0)\n",
    "\n",
    "    # Building Residual Network\n",
    "    net = tflearn.input_data(shape=[None, IMAGE_H, IMAGE_W, IMAGE_C],\n",
    "                             data_preprocessing=img_prep,\n",
    "                             data_augmentation=img_aug,\n",
    "                             name='input')\n",
    "\n",
    "    net = tflearn.conv_2d(net, 16, 3,\n",
    "                          regularizer='L2',\n",
    "                          weights_init='variance_scaling',\n",
    "                          weight_decay=0.0001,\n",
    "                          name=\"conv1\")  # 卷积处理, 16个卷积，卷积核大小为3，L2 正则化减少过拟合\n",
    "\n",
    "    net = tflearn.residual_block(net, 1, 16, name=\"res1\")  # 1 个残差层，输出16特征\n",
    "    net = tflearn.residual_block(net, 1, 32, downsample=True, name=\"res2\")  # 1 个残差层，输出32特征，降维1/2\n",
    "    net = tflearn.residual_block(net, 1, 64, downsample=True, name=\"res3\")  # 1 个残差层，输出64特征，降维1/2\n",
    "\n",
    "    # Regression\n",
    "    net = tflearn.fully_connected(net, len(LABELS), activation='softmax')\n",
    "    mom = tflearn.Momentum(learning_rate, lr_decay=0.1, decay_step=32000, staircase=True)\n",
    "    net = tflearn.regression(net, optimizer=mom, loss='categorical_crossentropy')\n",
    "\n",
    "    # Training\n",
    "    model = tflearn.DNN(net, max_checkpoints=1, tensorboard_verbose=3)\n",
    "\n",
    "    return model\n",
    "\n",
    "model = build_model(learning_rate=0.01)\n",
    "\n",
    "# Load a model\n",
    "model.load(model_dir +'/model.tfl')"
   ]
  },
  {
   "cell_type": "markdown",
   "metadata": {},
   "source": [
    "# 预测"
   ]
  },
  {
   "cell_type": "code",
   "execution_count": 4,
   "metadata": {},
   "outputs": [
    {
     "data": {
      "image/png": "[encoded data removed]",
      "text/plain": [
       "<Figure size 576x216 with 1 Axes>"
      ]
     },
     "metadata": {},
     "output_type": "display_data"
    }
   ],
   "source": [
    "# 读图\n",
    "def read_image(filename):\n",
    "    image = cv2.imread(filename)  # 读 PNG 只会读到3个通道\n",
    "    #image = mpimg.imread(filename) \n",
    "    h,w = image.shape[:2]\n",
    "    image = image[0:h,12:w-6]\n",
    "    image = cv2.resize(image,(IMAGE_W*LABEL_LENGTH,IMAGE_H),cv2.INTER_LINEAR) # 缩放大小\n",
    "    return image\n",
    "\n",
    "# 切分图片\n",
    "def split_image(image):\n",
    "    images = []\n",
    "    h = image.shape[0]\n",
    "    sw = IMAGE_W\n",
    "    for i in range(LABEL_LENGTH):\n",
    "        x = sw*i\n",
    "        images.append(image[0:h,x:x+sw])\n",
    "\n",
    "    return images\n",
    "\n",
    "# 验证码去燥\n",
    "def remove_noise(image):\n",
    "    return image\n",
    "\n",
    "# 预测\n",
    "def predict(image):\n",
    "    def onehot2number(label):\n",
    "        return LABELS[np.argmax(label)]\n",
    "\n",
    "    image = image.astype(np.float32)\n",
    "    image = image/255.0\n",
    "\n",
    "    x_data = split_image(image)\n",
    "\n",
    "    y_preds = model.predict(x_data)\n",
    "\n",
    "    label = ''\n",
    "    for y_pred in y_preds:\n",
    "        label = label + onehot2number(y_pred)\n",
    "    \n",
    "    return label\n",
    "\n",
    "import random\n",
    "files = os.listdir(image_dir)\n",
    "filename=os.path.join(image_dir,files[random.randint(0,len(files))])\n",
    "image = read_image(filename)\n",
    "label = predict(image)\n",
    "\n",
    "plt.figure(figsize=(8,3))\n",
    "plt.axis('off');\n",
    "plt.imshow(image)\n",
    "plt.title(label)\n",
    "plt.show()"
   ]
  }
 ],
 "metadata": {
  "anaconda-cloud": {},
  "kernelspec": {
   "display_name": "Python 3",
   "language": "python",
   "name": "python3"
  },
  "language_info": {
   "codemirror_mode": {
    "name": "ipython",
    "version": 3
   },
   "file_extension": ".py",
   "mimetype": "text/x-python",
   "name": "python",
   "nbconvert_exporter": "python",
   "pygments_lexer": "ipython3",
   "version": "3.6.5"
  },
  "toc": {
   "base_numbering": 1,
   "nav_menu": {},
   "number_sections": false,
   "sideBar": true,
   "skip_h1_title": false,
   "title_cell": "Table of Contents",
   "title_sidebar": "Contents",
   "toc_cell": false,
   "toc_position": {
    "height": "calc(100% - 180px)",
    "left": "10px",
    "top": "150px",
    "width": "375px"
   },
   "toc_section_display": true,
   "toc_window_display": true
  }
 },
 "nbformat": 4,
 "nbformat_minor": 1
}
